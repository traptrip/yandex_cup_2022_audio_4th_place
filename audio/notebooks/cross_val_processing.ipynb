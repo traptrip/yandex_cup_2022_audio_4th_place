{
 "cells": [
  {
   "cell_type": "code",
   "execution_count": 1,
   "metadata": {},
   "outputs": [],
   "source": [
    "import sys\n",
    "\n",
    "sys.path.append(\"../\")"
   ]
  },
  {
   "cell_type": "code",
   "execution_count": 2,
   "metadata": {},
   "outputs": [
    {
     "ename": "FileExistsError",
     "evalue": "[Errno 17] File exists: '../../data/audio/folds'",
     "output_type": "error",
     "traceback": [
      "\u001b[0;31m---------------------------------------------------------------------------\u001b[0m",
      "\u001b[0;31mFileExistsError\u001b[0m                           Traceback (most recent call last)",
      "Cell \u001b[0;32mIn [2], line 11\u001b[0m\n\u001b[1;32m      9\u001b[0m SEED \u001b[39m=\u001b[39m \u001b[39m42\u001b[39m\n\u001b[1;32m     10\u001b[0m FOLDS_PATH \u001b[39m=\u001b[39m Path(\u001b[39m\"\u001b[39m\u001b[39m../../data/audio/folds\u001b[39m\u001b[39m\"\u001b[39m)\n\u001b[0;32m---> 11\u001b[0m FOLDS_PATH\u001b[39m.\u001b[39;49mmkdir(parents\u001b[39m=\u001b[39;49m\u001b[39mTrue\u001b[39;49;00m)\n",
      "File \u001b[0;32m~/miniforge3/envs/yandex_cup/lib/python3.9/pathlib.py:1323\u001b[0m, in \u001b[0;36mPath.mkdir\u001b[0;34m(self, mode, parents, exist_ok)\u001b[0m\n\u001b[1;32m   1319\u001b[0m \u001b[39m\"\"\"\u001b[39;00m\n\u001b[1;32m   1320\u001b[0m \u001b[39mCreate a new directory at this given path.\u001b[39;00m\n\u001b[1;32m   1321\u001b[0m \u001b[39m\"\"\"\u001b[39;00m\n\u001b[1;32m   1322\u001b[0m \u001b[39mtry\u001b[39;00m:\n\u001b[0;32m-> 1323\u001b[0m     \u001b[39mself\u001b[39;49m\u001b[39m.\u001b[39;49m_accessor\u001b[39m.\u001b[39;49mmkdir(\u001b[39mself\u001b[39;49m, mode)\n\u001b[1;32m   1324\u001b[0m \u001b[39mexcept\u001b[39;00m \u001b[39mFileNotFoundError\u001b[39;00m:\n\u001b[1;32m   1325\u001b[0m     \u001b[39mif\u001b[39;00m \u001b[39mnot\u001b[39;00m parents \u001b[39mor\u001b[39;00m \u001b[39mself\u001b[39m\u001b[39m.\u001b[39mparent \u001b[39m==\u001b[39m \u001b[39mself\u001b[39m:\n",
      "\u001b[0;31mFileExistsError\u001b[0m: [Errno 17] File exists: '../../data/audio/folds'"
     ]
    }
   ],
   "source": [
    "import pandas as pd\n",
    "from pathlib import Path\n",
    "from engine.cross_validation_splits import get_class_disjoint_splits\n",
    "from tqdm import tqdm\n",
    "\n",
    "pd.options.display.max_rows = 999\n",
    "\n",
    "KFOLDS = 5\n",
    "SEED = 42\n",
    "FOLDS_PATH = Path(\"../../data/audio/folds\")\n",
    "FOLDS_PATH.mkdir(parents=True)"
   ]
  },
  {
   "cell_type": "code",
   "execution_count": 14,
   "metadata": {},
   "outputs": [],
   "source": [
    "base_meta_info = pd.read_csv(\"../../data/audio/train_meta.tsv\", sep=\"\\t\")\n",
    "test_meta_info = pd.read_csv(\"../../data/audio/test_meta.tsv\", sep=\"\\t\")"
   ]
  },
  {
   "cell_type": "code",
   "execution_count": 15,
   "metadata": {},
   "outputs": [
    {
     "data": {
      "text/plain": [
       "((167196, 3), (41377, 2))"
      ]
     },
     "execution_count": 15,
     "metadata": {},
     "output_type": "execute_result"
    }
   ],
   "source": [
    "base_meta_info.shape, test_meta_info.shape"
   ]
  },
  {
   "cell_type": "code",
   "execution_count": 16,
   "metadata": {},
   "outputs": [],
   "source": [
    "splits = get_class_disjoint_splits(base_meta_info.artistid.tolist(), KFOLDS, SEED)"
   ]
  },
  {
   "cell_type": "code",
   "execution_count": 17,
   "metadata": {},
   "outputs": [
    {
     "data": {
      "text/plain": [
       "(0.800533505586258, 0.19946649441374195)"
      ]
     },
     "execution_count": 17,
     "metadata": {},
     "output_type": "execute_result"
    }
   ],
   "source": [
    "len(splits[0][\"train\"]) / len(base_meta_info), len(splits[0][\"val\"]) / len(base_meta_info)"
   ]
  },
  {
   "cell_type": "code",
   "execution_count": 18,
   "metadata": {},
   "outputs": [],
   "source": [
    "for i, split in enumerate(splits):\n",
    "    train_idx, val_idx = split[\"train\"], split[\"val\"]\n",
    "    meta_info = base_meta_info.copy()\n",
    "    meta_info.loc[train_idx, \"stage\"] = \"train\"\n",
    "    meta_info.loc[val_idx, \"stage\"] = \"test\"\n",
    "\n",
    "    # meta_info.to_csv(FOLDS_PATH / f\"train_meta_with_stages_fold{i}.tsv\", sep=\"\\t\", index=False)"
   ]
  },
  {
   "cell_type": "code",
   "execution_count": 19,
   "metadata": {},
   "outputs": [],
   "source": [
    "train_art = meta_info.loc[meta_info.stage == \"train\", \"artistid\"].unique()\n",
    "test_art = meta_info.loc[meta_info.stage == \"test\", \"artistid\"].unique()"
   ]
  },
  {
   "cell_type": "code",
   "execution_count": 32,
   "metadata": {},
   "outputs": [
    {
     "data": {
      "text/plain": [
       "1.0"
      ]
     },
     "execution_count": 32,
     "metadata": {},
     "output_type": "execute_result"
    }
   ],
   "source": [
    "len(set(train_art).union(set(test_art))) / (len(train_art) + len(test_art))"
   ]
  },
  {
   "cell_type": "markdown",
   "metadata": {},
   "source": [
    "# Cross Entropy postprocessing"
   ]
  },
  {
   "cell_type": "code",
   "execution_count": 4,
   "metadata": {},
   "outputs": [
    {
     "name": "stderr",
     "output_type": "stream",
     "text": [
      "100%|██████████| 10/10 [00:01<00:00,  8.31it/s]\n"
     ]
    }
   ],
   "source": [
    "folds_path = \"../../experiments/audio/F10_AUDIO_CROSSVAL_FOLDN_crop81_adamw_cosinelr_smclr_transformer_roadmap\"\n",
    "new_weights_path = Path(\"../../experiments/audio/folds_weights_f10\")\n",
    "new_weights_path.mkdir(parents=True)\n",
    "kfolds = 10\n",
    "for i in tqdm(range(kfolds)):\n",
    "    fp = Path(folds_path.replace(\"FOLDN\", f\"FOLD{i}\"))\n",
    "    weights_path = fp / \"weights/epoch_30.ckpt\"\n",
    "    (new_weights_path / f\"fold{i}.ckpt\").write_bytes(weights_path.read_bytes())"
   ]
  },
  {
   "cell_type": "code",
   "execution_count": null,
   "metadata": {},
   "outputs": [],
   "source": []
  }
 ],
 "metadata": {
  "kernelspec": {
   "display_name": "Python 3.9.13 ('yandex_cup')",
   "language": "python",
   "name": "python3"
  },
  "language_info": {
   "codemirror_mode": {
    "name": "ipython",
    "version": 3
   },
   "file_extension": ".py",
   "mimetype": "text/x-python",
   "name": "python",
   "nbconvert_exporter": "python",
   "pygments_lexer": "ipython3",
   "version": "3.9.13"
  },
  "orig_nbformat": 4,
  "vscode": {
   "interpreter": {
    "hash": "f940d30fd746d591d66ffc888c4cfe829d0710aef564c4062a6cdf6a03d4aec0"
   }
  }
 },
 "nbformat": 4,
 "nbformat_minor": 2
}
